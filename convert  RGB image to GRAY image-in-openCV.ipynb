{
 "cells": [
  {
   "cell_type": "code",
   "execution_count": 2,
   "id": "b2bcfbf0",
   "metadata": {},
   "outputs": [],
   "source": [
    "# import libarary\n",
    "import cv2"
   ]
  },
  {
   "cell_type": "code",
   "execution_count": 4,
   "id": "86ccd88e",
   "metadata": {},
   "outputs": [],
   "source": [
    "img = cv2.imread('lite.jpeg') #read img\n",
    "cv2.imshow('lite',img)#display image\n",
    "k=cv2.waitKey(0)\n",
    "if k == 27: #esc in kaybourdconvert  RGB image to GRAY image-in-openCV\n",
    "    cv2.destroyAllWindows() # close the window "
   ]
  },
  {
   "cell_type": "code",
   "execution_count": 5,
   "id": "225bb930",
   "metadata": {},
   "outputs": [],
   "source": [
    "img_gray = cv2.cvtColor(img, cv2.COLOR_BGR2GRAY) #convert img RGB to gray\n",
    "cv2.imshow('lite',img_gray)#display image\n",
    "k=cv2.waitKey(0)\n",
    "if k == 27: #esc in kaybourd\n",
    "    cv2.destroyAllWindows()\n",
    "elif k == ord('s'):#if order is s save the image\n",
    "    cv2.imwrite('lite_gray.png',img_gray)#write image in your pc  \n",
    "    cv2.destroyAllWindows() # close the window "
   ]
  },
  {
   "cell_type": "code",
   "execution_count": null,
   "id": "7e873c14",
   "metadata": {},
   "outputs": [],
   "source": []
  }
 ],
 "metadata": {
  "kernelspec": {
   "display_name": "Python 3 (ipykernel)",
   "language": "python",
   "name": "python3"
  },
  "language_info": {
   "codemirror_mode": {
    "name": "ipython",
    "version": 3
   },
   "file_extension": ".py",
   "mimetype": "text/x-python",
   "name": "python",
   "nbconvert_exporter": "python",
   "pygments_lexer": "ipython3",
   "version": "3.11.5"
  }
 },
 "nbformat": 4,
 "nbformat_minor": 5
}
